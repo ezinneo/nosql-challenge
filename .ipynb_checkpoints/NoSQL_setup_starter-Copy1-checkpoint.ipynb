{
 "cells": [
  {
   "cell_type": "markdown",
   "id": "9a57c4c6",
   "metadata": {},
   "source": [
    "# Eat Safe, Love"
   ]
  },
  {
   "cell_type": "markdown",
   "id": "064ef857",
   "metadata": {},
   "source": [
    "## Part 1: Database and Jupyter Notebook Set Up"
   ]
  },
  {
   "cell_type": "markdown",
   "id": "664e3c1f",
   "metadata": {},
   "source": [
    "Import the data provided in the `establishments.json` file from your Terminal. Name the database `uk_food` and the collection `establishments`.\n",
    "\n",
    "Within this markdown cell, copy the line of text you used to import the data from your Terminal. This way, future analysts will be able to repeat your process.\n",
    "\n",
    "e.g.: Import the dataset with `YOUR IMPORT TEXT HERE`"
   ]
  },
  {
   "cell_type": "code",
   "execution_count": 46,
   "id": "3ecdd008",
   "metadata": {},
   "outputs": [],
   "source": [
    "# Import dependencies\n",
    "from pymongo import MongoClient\n",
    "from pprint import pprint"
   ]
  },
  {
   "cell_type": "code",
   "execution_count": 47,
   "id": "59390c4a",
   "metadata": {},
   "outputs": [],
   "source": [
    "# Create an instance of MongoClient\n",
    "mongo = MongoClient(port=27017)"
   ]
  },
  {
   "cell_type": "code",
   "execution_count": 48,
   "id": "7f9ececa",
   "metadata": {},
   "outputs": [
    {
     "name": "stdout",
     "output_type": "stream",
     "text": [
      "['admin', 'autosaurus', 'classDB', 'config', 'epa', 'local', 'travel_db', 'uk_food']\n"
     ]
    }
   ],
   "source": [
    "# confirm that our new database was created\n",
    "\n",
    "print(mongo.list_database_names())"
   ]
  },
  {
   "cell_type": "code",
   "execution_count": 49,
   "id": "71e373c1",
   "metadata": {},
   "outputs": [],
   "source": [
    "# assign the uk_food database to a variable name\n",
    "db = mongo['uk_food']"
   ]
  },
  {
   "cell_type": "code",
   "execution_count": 50,
   "id": "ef1b89ed",
   "metadata": {},
   "outputs": [
    {
     "name": "stdout",
     "output_type": "stream",
     "text": [
      "['establishments']\n"
     ]
    }
   ],
   "source": [
    "# review the collections in our new database\n",
    "\n",
    "print(db.list_collection_names())"
   ]
  },
  {
   "cell_type": "markdown",
   "id": "b5b3eaa1",
   "metadata": {},
   "source": [
    "Mongo Import Text below:\n",
    "\n",
    "\n",
    "--type json -d uk_food -c establishments --drop --jsonArray establishments.json\n"
   ]
  },
  {
   "cell_type": "code",
   "execution_count": 51,
   "id": "18ab463c",
   "metadata": {
    "scrolled": true
   },
   "outputs": [
    {
     "name": "stdout",
     "output_type": "stream",
     "text": [
      "Collections in the 'uk_food' database:\n",
      "establishments\n"
     ]
    }
   ],
   "source": [
    "# review the collections in our new database\n",
    "# List the collections in the 'uk_food' database\n",
    "collections = db.list_collection_names()\n",
    "\n",
    "# Check if there are any collections\n",
    "if collections:\n",
    "    print(\"Collections in the 'uk_food' database:\")\n",
    "    for collection in collections:\n",
    "        print(collection)\n",
    "else:\n",
    "    print(\"No collections found in the 'uk_food' database.\")\n"
   ]
  },
  {
   "cell_type": "code",
   "execution_count": 52,
   "id": "6a0d92df",
   "metadata": {},
   "outputs": [
    {
     "name": "stdout",
     "output_type": "stream",
     "text": [
      "A document from the 'establishments' collection:\n",
      "{'AddressLine1': 'East Cliff Pavilion',\n",
      " 'AddressLine2': 'Wear Bay Road',\n",
      " 'AddressLine3': 'Folkestone',\n",
      " 'AddressLine4': 'Kent',\n",
      " 'BusinessName': 'The Pavilion',\n",
      " 'BusinessType': 'Restaurant/Cafe/Canteen',\n",
      " 'BusinessTypeID': 1,\n",
      " 'ChangesByServerID': 0,\n",
      " 'Distance': 4591.765489457773,\n",
      " 'FHRSID': 1043695,\n",
      " 'LocalAuthorityBusinessID': 'PI/000073616',\n",
      " 'LocalAuthorityCode': '188',\n",
      " 'LocalAuthorityEmailAddress': 'foodteam@folkestone-hythe.gov.uk',\n",
      " 'LocalAuthorityName': 'Folkestone and Hythe',\n",
      " 'LocalAuthorityWebSite': 'http://www.folkestone-hythe.gov.uk',\n",
      " 'NewRatingPending': False,\n",
      " 'Phone': '',\n",
      " 'PostCode': 'CT19 6BL',\n",
      " 'RatingDate': '2018-04-04T00:00:00',\n",
      " 'RatingKey': 'fhrs_5_en-gb',\n",
      " 'RatingValue': {'$toInt': '$RatingValue'},\n",
      " 'RightToReply': '',\n",
      " 'SchemeType': 'FHRS',\n",
      " '_id': ObjectId('64fcb217eed7734643d03371'),\n",
      " 'geocode': {'latitude': '51.083812', 'longitude': '1.195625'},\n",
      " 'latitude': {'$toDouble': '$latitude'},\n",
      " 'links': [{'href': 'https://api.ratings.food.gov.uk/establishments/1043695',\n",
      "            'rel': 'self'}],\n",
      " 'longitude': {'$toDouble': '$longitude'},\n",
      " 'meta': {'dataSource': None,\n",
      "          'extractDate': '0001-01-01T00:00:00',\n",
      "          'itemCount': 0,\n",
      "          'pageNumber': 0,\n",
      "          'pageSize': 0,\n",
      "          'returncode': None,\n",
      "          'totalCount': 0,\n",
      "          'totalPages': 0},\n",
      " 'scores': {'ConfidenceInManagement': 5, 'Hygiene': 5, 'Structural': 5}}\n"
     ]
    }
   ],
   "source": [
    "# review a document in the establishments collection\n",
    "\n",
    "# Specify the collection\n",
    "collection = db['establishments']\n",
    "\n",
    "# Find and display a single document from the collection\n",
    "document = collection.find_one()\n",
    "\n",
    "# Print the document\n",
    "if document:\n",
    "    print(\"A document from the 'establishments' collection:\")\n",
    "    pprint(document)\n",
    "else:\n",
    "    print(\"No documents found in the 'establishments' collection.\")\n"
   ]
  },
  {
   "cell_type": "code",
   "execution_count": 53,
   "id": "11c9f11b",
   "metadata": {},
   "outputs": [],
   "source": [
    "# assign the collection to a variable\n",
    "establishments = db['establishments']"
   ]
  },
  {
   "cell_type": "markdown",
   "id": "d5671434",
   "metadata": {},
   "source": [
    "## Part 2: Update the Database"
   ]
  },
  {
   "cell_type": "markdown",
   "id": "314bd884",
   "metadata": {},
   "source": [
    "1. An exciting new halal restaurant just opened in Greenwich, but hasn't been rated yet. The magazine has asked you to include it in your analysis. Add the following restaurant \"Penang Flavours\" to the database."
   ]
  },
  {
   "cell_type": "code",
   "execution_count": 54,
   "id": "c2da7648",
   "metadata": {},
   "outputs": [],
   "source": [
    "# Create a dictionary for the new restaurant data\n",
    "\n",
    "# Define a dictionary for the new restaurant \"Penang Flavours\"\n",
    "new_restaurant = {\n",
    "    \"BusinessName\":\"Penang Flavours\",\n",
    "    \"BusinessType\":\"Restaurant/Cafe/Canteen\",\n",
    "    \"BusinessTypeID\":\"\",\n",
    "    \"AddressLine1\":\"Penang Flavours\",\n",
    "    \"AddressLine2\":\"146A Plumstead Rd\",\n",
    "    \"AddressLine3\":\"London\",\n",
    "    \"AddressLine4\":\"\",\n",
    "    \"PostCode\":\"SE18 7DY\",\n",
    "    \"Phone\":\"\",\n",
    "    \"LocalAuthorityCode\":\"511\",\n",
    "    \"LocalAuthorityName\":\"Greenwich\",\n",
    "    \"LocalAuthorityWebSite\":\"http://www.royalgreenwich.gov.uk\",\n",
    "    \"LocalAuthorityEmailAddress\":\"health@royalgreenwich.gov.uk\",\n",
    "    \"scores\":{\n",
    "        \"Hygiene\":\"\",\n",
    "        \"Structural\":\"\",\n",
    "        \"ConfidenceInManagement\":\"\"\n",
    "    },\n",
    "    \"SchemeType\":\"FHRS\",\n",
    "    \"geocode\":{\n",
    "        \"longitude\":\"0.08384000\",\n",
    "        \"latitude\":\"51.49014200\"\n",
    "    },\n",
    "    \"RightToReply\":\"\",\n",
    "    \"Distance\":4623.9723280747176,\n",
    "    \"NewRatingPending\":True\n",
    "}\n",
    "\n"
   ]
  },
  {
   "cell_type": "code",
   "execution_count": 58,
   "id": "a6e5cece",
   "metadata": {},
   "outputs": [
    {
     "name": "stdout",
     "output_type": "stream",
     "text": [
      "New restaurant 'Penang Flavours' has been successfully added to the collection.\n"
     ]
    }
   ],
   "source": [
    "# Insert the new restaurant into the collection\n",
    "# Specify the collection where you want to insert the data\n",
    "collection = db['establishments']\n",
    "\n",
    "# Delete the _id field from the new_restaurant dictionary\n",
    "if \"_id\" in new_restaurant:\n",
    "    del new_restaurant[\"_id\"]\n",
    "\n",
    "# Insert the new restaurant data into the collection\n",
    "insert_result = collection.insert_one(new_restaurant)\n",
    "\n",
    "if insert_result.inserted_id:\n",
    "    print(f\"New restaurant '{new_restaurant['BusinessName']}' has been successfully added to the collection.\")\n",
    "else:\n",
    "    print(\"Failed to insert the new restaurant.\")\n"
   ]
  },
  {
   "cell_type": "code",
   "execution_count": 59,
   "id": "63bb10f9",
   "metadata": {},
   "outputs": [
    {
     "name": "stdout",
     "output_type": "stream",
     "text": [
      "New restaurant found:\n",
      "{'BusinessTypeID': 1,\n",
      " '_id': ObjectId('64fcb4329cc6d3b955ebaf27'),\n",
      " 'address': '123 Greenwich Avenue',\n",
      " 'city': 'Greenwich',\n",
      " 'cuisine': 'Halal',\n",
      " 'latitude': {'$toDouble': '$latitude'},\n",
      " 'longitude': {'$toDouble': '$longitude'},\n",
      " 'name': 'Penang Flavours',\n",
      " 'reviews': []}\n"
     ]
    }
   ],
   "source": [
    "# Check that the new restaurant was inserted\n",
    "\n",
    "# Specify the collection where the new restaurant was inserted\n",
    "collection = db['establishments']\n",
    "\n",
    "# Find the newly inserted restaurant by its name\n",
    "inserted_restaurant = collection.find_one({\"name\": \"Penang Flavours\"})\n",
    "\n",
    "# Check if the restaurant was found\n",
    "if inserted_restaurant:\n",
    "    print(\"New restaurant found:\")\n",
    "    pprint(inserted_restaurant)\n",
    "else:\n",
    "    print(\"New restaurant not found in the collection.\")\n",
    "\n"
   ]
  },
  {
   "cell_type": "markdown",
   "id": "0ef4395a",
   "metadata": {},
   "source": [
    "2. Find the BusinessTypeID for \"Restaurant/Cafe/Canteen\" and return only the `BusinessTypeID` and `BusinessType` fields."
   ]
  },
  {
   "cell_type": "code",
   "execution_count": null,
   "id": "93c63829",
   "metadata": {},
   "outputs": [],
   "source": [
    "# Find the BusinessTypeID for \"Restaurant/Cafe/Canteen\" and return only the BusinessTypeID and BusinessType fields\n",
    "\n",
    "# Specify the collection where you want to perform the query\n",
    "collection = db['establishments']\n",
    "\n",
    "# Define the query to find the document with \"Restaurant/Cafe/Canteen\" as BusinessType\n",
    "query = {\"BusinessType\": \"Restaurant/Cafe/Canteen\"}\n",
    "\n",
    "# Define the projection to specify which fields to return\n",
    "projection = {\"BusinessTypeID\": 1, \"BusinessType\": 1, \"_id\": 0}\n",
    "\n",
    "# Use the find() method with the query and projection\n",
    "result = collection.find(query, projection)\n",
    "\n",
    "# Loop through the results and print them\n",
    "for doc in result:\n",
    "    pprint(doc)\n"
   ]
  },
  {
   "cell_type": "markdown",
   "id": "4e570caf",
   "metadata": {},
   "source": [
    "3. Update the new restaurant with the `BusinessTypeID` you found."
   ]
  },
  {
   "cell_type": "code",
   "execution_count": 34,
   "id": "7f599f3d",
   "metadata": {},
   "outputs": [
    {
     "name": "stdout",
     "output_type": "stream",
     "text": [
      "Restaurant 'Penang Flavours' has been updated with the correct BusinessTypeID.\n"
     ]
    }
   ],
   "source": [
    "# Update the new restaurant with the correct BusinessTypeID\n",
    "\n",
    "# Specify the collection where the new restaurant is stored\n",
    "collection = db['establishments']\n",
    "\n",
    "# Define the filter to identify the restaurant by its name\n",
    "filter_query = {\"name\": \"Penang Flavours\"}\n",
    "\n",
    "# Define the update to set the correct BusinessTypeID\n",
    "update_query = {\"$set\": {\"BusinessTypeID\": 1}}\n",
    "\n",
    "# Perform the update operation\n",
    "update_result = collection.update_one(filter_query, update_query)\n",
    "\n",
    "# Check if the update was successful\n",
    "if update_result.modified_count > 0:\n",
    "    print(\"Restaurant 'Penang Flavours' has been updated with the correct BusinessTypeID.\")\n",
    "else:\n",
    "    print(\"No matching document found for update.\")\n"
   ]
  },
  {
   "cell_type": "code",
   "execution_count": 35,
   "id": "a6ad16f7",
   "metadata": {},
   "outputs": [
    {
     "name": "stdout",
     "output_type": "stream",
     "text": [
      "Updated restaurant 'Penang Flavours' details:\n",
      "{'BusinessTypeID': 1,\n",
      " '_id': ObjectId('64fcb4329cc6d3b955ebaf27'),\n",
      " 'address': '123 Greenwich Avenue',\n",
      " 'city': 'Greenwich',\n",
      " 'cuisine': 'Halal',\n",
      " 'name': 'Penang Flavours',\n",
      " 'reviews': []}\n"
     ]
    }
   ],
   "source": [
    "# Confirm that the new restaurant was updated\n",
    "\n",
    "# Specify the collection where the new restaurant is stored\n",
    "collection = db['establishments']\n",
    "\n",
    "# Define the filter to identify the restaurant by its name\n",
    "filter_query = {\"name\": \"Penang Flavours\"}\n",
    "\n",
    "# Find the updated document\n",
    "updated_document = collection.find_one(filter_query)\n",
    "\n",
    "# Check if the restaurant was found\n",
    "if updated_document:\n",
    "    print(\"Updated restaurant 'Penang Flavours' details:\")\n",
    "    pprint(updated_document)\n",
    "else:\n",
    "    print(\"Restaurant 'Penang Flavours' not found in the collection.\")\n"
   ]
  },
  {
   "cell_type": "markdown",
   "id": "67281254",
   "metadata": {},
   "source": [
    "4. The magazine is not interested in any establishments in Dover, so check how many documents contain the Dover Local Authority. Then, remove any establishments within the Dover Local Authority from the database, and check the number of documents to ensure they were deleted."
   ]
  },
  {
   "cell_type": "code",
   "execution_count": 36,
   "id": "768474a6",
   "metadata": {},
   "outputs": [
    {
     "name": "stdout",
     "output_type": "stream",
     "text": [
      "Number of documents with LocalAuthorityName as 'Dover': 994\n"
     ]
    }
   ],
   "source": [
    "# Find how many documents have LocalAuthorityName as \"Dover\"\n",
    "\n",
    "# Specify the collection where you want to perform the count operation\n",
    "collection = db['establishments']\n",
    "\n",
    "# Define the query to filter documents with \"LocalAuthorityName\" as \"Dover\"\n",
    "query = {\"LocalAuthorityName\": \"Dover\"}\n",
    "\n",
    "# Perform the count operation\n",
    "count = collection.count_documents(query)\n",
    "\n",
    "# Print the count\n",
    "print(f\"Number of documents with LocalAuthorityName as 'Dover': {count}\")\n"
   ]
  },
  {
   "cell_type": "code",
   "execution_count": 38,
   "id": "a11d5f1b",
   "metadata": {},
   "outputs": [
    {
     "name": "stdout",
     "output_type": "stream",
     "text": [
      "Deleted 994 documents with LocalAuthorityName as 'Dover'.\n"
     ]
    }
   ],
   "source": [
    "# Delete all documents where LocalAuthorityName is \"Dover\"\n",
    "\n",
    "\n",
    "# Specify the collection where you want to perform the deletion\n",
    "collection = db['establishments']\n",
    "\n",
    "# Define the query to filter documents with \"LocalAuthorityName\" as \"Dover\"\n",
    "query = {\"LocalAuthorityName\": \"Dover\"}\n",
    "\n",
    "# Perform the deletion operation\n",
    "delete_result = collection.delete_many(query)\n",
    "\n",
    "# Check the deletion result\n",
    "if delete_result.deleted_count > 0:\n",
    "    print(f\"Deleted {delete_result.deleted_count} documents with LocalAuthorityName as 'Dover'.\")\n",
    "else:\n",
    "    print(\"No documents with LocalAuthorityName as 'Dover' found to delete.\")\n",
    "\n"
   ]
  },
  {
   "cell_type": "code",
   "execution_count": 40,
   "id": "2a51aba0",
   "metadata": {},
   "outputs": [
    {
     "name": "stdout",
     "output_type": "stream",
     "text": [
      "No documents containing 'Dover' in LocalAuthorityName found.\n"
     ]
    }
   ],
   "source": [
    "# Check if any remaining documents include Dover\n",
    "\n",
    "# Specify the collection where you want to perform the query\n",
    "collection = db['establishments']\n",
    "\n",
    "# Define the query to find documents with \"LocalAuthorityName\" containing \"Dover\"\n",
    "query = {\"LocalAuthorityName\": {\"$regex\": \"Dover\", \"$options\": \"i\"}}\n",
    "\n",
    "# Perform the query and count matching documents\n",
    "count = collection.count_documents(query)\n",
    "\n",
    "# Check if any documents match the query\n",
    "if count > 0:\n",
    "    print(f\"Found {count} documents containing 'Dover' in LocalAuthorityName.\")\n",
    "else:\n",
    "    print(\"No documents containing 'Dover' in LocalAuthorityName found.\")\n",
    "\n"
   ]
  },
  {
   "cell_type": "code",
   "execution_count": 41,
   "id": "8c356f7b",
   "metadata": {},
   "outputs": [
    {
     "name": "stdout",
     "output_type": "stream",
     "text": [
      "At least one document remains in the collection.\n",
      "{'AddressLine1': 'East Cliff Pavilion',\n",
      " 'AddressLine2': 'Wear Bay Road',\n",
      " 'AddressLine3': 'Folkestone',\n",
      " 'AddressLine4': 'Kent',\n",
      " 'BusinessName': 'The Pavilion',\n",
      " 'BusinessType': 'Restaurant/Cafe/Canteen',\n",
      " 'BusinessTypeID': 1,\n",
      " 'ChangesByServerID': 0,\n",
      " 'Distance': 4591.765489457773,\n",
      " 'FHRSID': 1043695,\n",
      " 'LocalAuthorityBusinessID': 'PI/000073616',\n",
      " 'LocalAuthorityCode': '188',\n",
      " 'LocalAuthorityEmailAddress': 'foodteam@folkestone-hythe.gov.uk',\n",
      " 'LocalAuthorityName': 'Folkestone and Hythe',\n",
      " 'LocalAuthorityWebSite': 'http://www.folkestone-hythe.gov.uk',\n",
      " 'NewRatingPending': False,\n",
      " 'Phone': '',\n",
      " 'PostCode': 'CT19 6BL',\n",
      " 'RatingDate': '2018-04-04T00:00:00',\n",
      " 'RatingKey': 'fhrs_5_en-gb',\n",
      " 'RatingValue': '5',\n",
      " 'RightToReply': '',\n",
      " 'SchemeType': 'FHRS',\n",
      " '_id': ObjectId('64fcb217eed7734643d03371'),\n",
      " 'geocode': {'latitude': '51.083812', 'longitude': '1.195625'},\n",
      " 'links': [{'href': 'https://api.ratings.food.gov.uk/establishments/1043695',\n",
      "            'rel': 'self'}],\n",
      " 'meta': {'dataSource': None,\n",
      "          'extractDate': '0001-01-01T00:00:00',\n",
      "          'itemCount': 0,\n",
      "          'pageNumber': 0,\n",
      "          'pageSize': 0,\n",
      "          'returncode': None,\n",
      "          'totalCount': 0,\n",
      "          'totalPages': 0},\n",
      " 'scores': {'ConfidenceInManagement': 5, 'Hygiene': 5, 'Structural': 5}}\n"
     ]
    }
   ],
   "source": [
    "# Check that other documents remain with 'find_one'\n",
    "\n",
    "# Specify the collection where you want to perform the query\n",
    "collection = db['establishments']\n",
    "\n",
    "# Use find_one() to retrieve one document from the collection\n",
    "remaining_document = collection.find_one()\n",
    "\n",
    "# Check if a document was found\n",
    "if remaining_document:\n",
    "    print(\"At least one document remains in the collection.\")\n",
    "    # Print the details of the remaining document if needed\n",
    "    pprint(remaining_document)\n",
    "else:\n",
    "    print(\"No documents remain in the collection.\")\n"
   ]
  },
  {
   "cell_type": "markdown",
   "id": "e9f1662d",
   "metadata": {},
   "source": [
    "5. Some of the number values are stored as strings, when they should be stored as numbers."
   ]
  },
  {
   "cell_type": "markdown",
   "id": "c46df2df",
   "metadata": {},
   "source": [
    "Use `update_many` to convert `latitude` and `longitude` to decimal numbers."
   ]
  },
  {
   "cell_type": "code",
   "execution_count": 42,
   "id": "fd4112ce",
   "metadata": {},
   "outputs": [
    {
     "name": "stdout",
     "output_type": "stream",
     "text": [
      "Updated 38787 documents to change data type for 'longitude' and 'latitude'.\n"
     ]
    }
   ],
   "source": [
    "# Change the data type from String to Decimal for longitude and latitude\n",
    "\n",
    "# Specify the collection where you want to perform the update\n",
    "collection = db['establishments']\n",
    "\n",
    "# Define the query to match all documents (since we want to update all of them)\n",
    "query = {}\n",
    "\n",
    "# Define the update operation to convert \"longitude\" and \"latitude\" from string to decimal\n",
    "update_operation = {\n",
    "    \"$set\": {\n",
    "        \"longitude\": {\n",
    "            \"$toDouble\": \"$longitude\"\n",
    "        },\n",
    "        \"latitude\": {\n",
    "            \"$toDouble\": \"$latitude\"\n",
    "        }\n",
    "    }\n",
    "}\n",
    "\n",
    "# Use update_many to apply the update operation to all documents\n",
    "update_result = collection.update_many(query, update_operation)\n",
    "\n",
    "# Check the update result\n",
    "if update_result.modified_count > 0:\n",
    "    print(f\"Updated {update_result.modified_count} documents to change data type for 'longitude' and 'latitude'.\")\n",
    "else:\n",
    "    print(\"No documents were updated.\")\n"
   ]
  },
  {
   "cell_type": "markdown",
   "id": "142e319c",
   "metadata": {},
   "source": [
    "Use `update_many` to convert `RatingValue` to integer numbers."
   ]
  },
  {
   "cell_type": "code",
   "execution_count": 43,
   "id": "04430a5b",
   "metadata": {},
   "outputs": [
    {
     "data": {
      "text/plain": [
       "<pymongo.results.UpdateResult at 0x7f9e9966a9b0>"
      ]
     },
     "execution_count": 43,
     "metadata": {},
     "output_type": "execute_result"
    }
   ],
   "source": [
    "# Set non 1-5 Rating Values to Null\n",
    "non_ratings = [\"AwaitingInspection\", \"Awaiting Inspection\", \"AwaitingPublication\", \"Pass\", \"Exempt\"]\n",
    "establishments.update_many({\"RatingValue\": {\"$in\": non_ratings}}, [ {'$set':{ \"RatingValue\" : None}} ])"
   ]
  },
  {
   "cell_type": "code",
   "execution_count": 44,
   "id": "92524ccc",
   "metadata": {},
   "outputs": [
    {
     "name": "stdout",
     "output_type": "stream",
     "text": [
      "No documents were updated to null.\n",
      "Converted 38785 documents' RatingValue to integers.\n"
     ]
    }
   ],
   "source": [
    "# Change the data type from String to Integer for RatingValue\n",
    "\n",
    "# Specify the collection where you want to perform the updates\n",
    "collection = db['establishments']\n",
    "\n",
    "# Define a list of non-rating values that should be set to null\n",
    "non_ratings = [\"AwaitingInspection\", \"Awaiting Inspection\", \"AwaitingPublication\", \"Pass\", \"Exempt\"]\n",
    "\n",
    "# Use update_many to set non-rating values to null\n",
    "null_result = collection.update_many({\"RatingValue\": {\"$in\": non_ratings}}, {\"$set\": {\"RatingValue\": None}})\n",
    "\n",
    "# Check the update result\n",
    "if null_result.modified_count > 0:\n",
    "    print(f\"Set {null_result.modified_count} documents' RatingValue to null for non-rating values.\")\n",
    "else:\n",
    "    print(\"No documents were updated to null.\")\n",
    "\n",
    "# Use update_many to change the data type from String to Integer for RatingValue\n",
    "integer_result = collection.update_many({\"RatingValue\": {\"$exists\": True}}, {\"$set\": {\"RatingValue\": {\"$toInt\": \"$RatingValue\"}}})\n",
    "\n",
    "# Check the update result\n",
    "if integer_result.modified_count > 0:\n",
    "    print(f\"Converted {integer_result.modified_count} documents' RatingValue to integers.\")\n",
    "else:\n",
    "    print(\"No documents were converted to integers.\")\n"
   ]
  },
  {
   "cell_type": "code",
   "execution_count": 45,
   "id": "0deacaf9",
   "metadata": {},
   "outputs": [
    {
     "name": "stdout",
     "output_type": "stream",
     "text": [
      "Data type of 'longitude': <class 'dict'>\n",
      "Data type of 'latitude': <class 'dict'>\n",
      "Data type of 'RatingValue': <class 'dict'>\n"
     ]
    }
   ],
   "source": [
    "# Check that the coordinates and rating value are now numbers\n",
    "\n",
    "# Specify the collection where you want to perform the query\n",
    "collection = db['establishments']\n",
    "\n",
    "# Use find_one() to retrieve one document from the collection\n",
    "sample_document = collection.find_one()\n",
    "\n",
    "# Check if a document was found\n",
    "if sample_document:\n",
    "    # Check the data types of the fields\n",
    "    longitude_type = type(sample_document.get(\"longitude\"))\n",
    "    latitude_type = type(sample_document.get(\"latitude\"))\n",
    "    rating_value_type = type(sample_document.get(\"RatingValue\"))\n",
    "    \n",
    "    # Print the data types\n",
    "    print(f\"Data type of 'longitude': {longitude_type}\")\n",
    "    print(f\"Data type of 'latitude': {latitude_type}\")\n",
    "    print(f\"Data type of 'RatingValue': {rating_value_type}\")\n",
    "else:\n",
    "    print(\"No document found in the collection.\")\n",
    "\n",
    "\n",
    "    "
   ]
  },
  {
   "cell_type": "code",
   "execution_count": null,
   "id": "cef35095",
   "metadata": {},
   "outputs": [],
   "source": []
  }
 ],
 "metadata": {
  "kernelspec": {
   "display_name": "Python 3 (ipykernel)",
   "language": "python",
   "name": "python3"
  },
  "language_info": {
   "codemirror_mode": {
    "name": "ipython",
    "version": 3
   },
   "file_extension": ".py",
   "mimetype": "text/x-python",
   "name": "python",
   "nbconvert_exporter": "python",
   "pygments_lexer": "ipython3",
   "version": "3.10.11"
  }
 },
 "nbformat": 4,
 "nbformat_minor": 5
}
